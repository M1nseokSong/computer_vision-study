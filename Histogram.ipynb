{
  "nbformat": 4,
  "nbformat_minor": 0,
  "metadata": {
    "colab": {
      "name": "Histogram.ipynb",
      "provenance": [],
      "authorship_tag": "ABX9TyMe50MfQmbZsoB5my1EA9nM",
      "include_colab_link": true
    },
    "kernelspec": {
      "name": "python3",
      "display_name": "Python 3"
    },
    "language_info": {
      "name": "python"
    }
  },
  "cells": [
    {
      "cell_type": "markdown",
      "metadata": {
        "id": "view-in-github",
        "colab_type": "text"
      },
      "source": [
        "<a href=\"https://colab.research.google.com/github/M1nseokSong/computer_vision-study/blob/main/Histogram.ipynb\" target=\"_parent\"><img src=\"https://colab.research.google.com/assets/colab-badge.svg\" alt=\"Open In Colab\"/></a>"
      ]
    },
    {
      "cell_type": "markdown",
      "source": [
        "## **히스토그램 평활화**"
      ],
      "metadata": {
        "id": "uBd4hL9Sn_BF"
      }
    },
    {
      "cell_type": "markdown",
      "source": [
        "한쪽으로 화소들이 몰린 그래프는 **명암 대비가 낮고**, 분포가 적당히 이루어져있는 그래프는 **명암 대비가 높다**.\n",
        "***한쪽으로 화소값의 분포가 쏠린 히스토그램***의 화소를 재배치 시켜 균등한 분포를 가진 히스토그램으로 바꾸는 것!"
      ],
      "metadata": {
        "id": "Cpgn6xLpt-H7"
      }
    },
    {
      "cell_type": "markdown",
      "source": [
        "## **히스토그램 역투영**"
      ],
      "metadata": {
        "id": "OrcZ-KcZuAsc"
      }
    },
    {
      "cell_type": "markdown",
      "source": [
        "물체의 모양은 무시하고 단순히 컬러 분포만으로 검출하는 방법. 이를 이용해 사람의 얼굴을 검출할 수 있다. 이 때 히스토그램은 명안 채널을 이용하는 1차원이 아니라, **최소 2차원 이상을 사용해야 한다**. 따라서 RGB 색상 공간을 HSI 공간으로 변환한 다음, **H(색상), S(채도)**채널을 사용한다.\n"
      ],
      "metadata": {
        "id": "B_oWgDkeuDpx"
      }
    }
  ]
}